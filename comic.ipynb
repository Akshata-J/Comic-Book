{
 "cells": [
  {
   "cell_type": "markdown",
   "id": "84ff5693",
   "metadata": {},
   "source": [
    "<div style=\"text-align: right\">Name : Akshata Sanjay Jadhav</div>\n",
    "<div style=\"text-align: right\">Python version : 3.8</div>\n",
    "<div style=\"text-align: right\">Libraries used : pillow, opencv-python, openpyxl, pandas, fpdf2</div>"
   ]
  },
  {
   "cell_type": "markdown",
   "id": "8cc28373",
   "metadata": {},
   "source": [
    "Following are the constants for the program. It acts like a config file in which we can change and modify values as per the requirements."
   ]
  },
  {
   "cell_type": "code",
   "execution_count": 10,
   "id": "ea6fc6cb",
   "metadata": {},
   "outputs": [],
   "source": [
    "import pandas as pd\n",
    "\n",
    "IMAGE_MAX_HEIGHT = 300\n",
    "IMAGE_MAX_WIDTH = 1200\n",
    "\n",
    "BORDER_WIDTH = 5\n",
    "BORDER_HEIGHT = 5\n",
    "\n",
    "PAGE_BORDER_WIDTH = 25\n",
    "PAGE_BORDER_HEIGHT = 30\n",
    "\n",
    "IMAGE_FOLDER = 'comic_images/'\n",
    "\n",
    "NO_OF_IMAGE = 66\n",
    "FONT_TEXT_SIZE = 18\n",
    "\n",
    "DIALOGUES = pd.read_excel('comic_dialogues.xlsx',header=0)\n",
    "FONTS = {'en':'fonts/BackIssuesBB_reg.ttf', 'hi':'fonts/Kalam-Bold.ttf'}\n"
   ]
  },
  {
   "cell_type": "markdown",
   "id": "afa58965",
   "metadata": {},
   "source": [
    "The function add_border is adding a border to the images, resize_with_borders is resizing the image to make it fit into the border. The functions combine_horizontally and combine_vertically are combining the images into horizontal strip and vertical strip to stitch the comic together."
   ]
  },
  {
   "cell_type": "code",
   "execution_count": 11,
   "id": "e954d8fd",
   "metadata": {},
   "outputs": [],
   "source": [
    "from PIL import Image as pili, ImageDraw as pild, ImageFont as pilf, ImageOps as piliops\n",
    "\n",
    "def add_border(image, color='white', width=100, height=100):\n",
    "    img = piliops.expand(image.convert('RGBA'),border=(width, height),fill=color)\n",
    "    return img\n",
    "\n",
    "def resize_with_borders(images):\n",
    "    total_width = sum([i.width for i in images])\n",
    "    image_count = len(images)\n",
    "    for i in range(image_count):\n",
    "        image = images[i]\n",
    "        iWidth = image.width\n",
    "        width = round((IMAGE_MAX_WIDTH-BORDER_HEIGHT*2*image_count)*iWidth/total_width)\n",
    "        image = image.resize((width, IMAGE_MAX_HEIGHT-BORDER_HEIGHT*2))\n",
    "        image = add_border(image, 'white', BORDER_WIDTH, BORDER_HEIGHT)\n",
    "        images[i] = image\n",
    "        \n",
    "    max_height = max([i.height for i in images])\n",
    "    images = [i.resize((i.width,max_height)) for i in images]\n",
    "    return images\n",
    "\n",
    "def combine_horizontally(images):\n",
    "    imgs = images\n",
    "    imgs_comb = np.hstack( (np.asarray(i) for i in imgs ) )\n",
    "    imgs_comb = pili.fromarray(imgs_comb)\n",
    "    return imgs_comb\n",
    "\n",
    "def combine_vertically(images):\n",
    "    imgs = images\n",
    "    min_shape = sorted( [(np.sum(i.size), i.size ) for i in imgs])[0][1]\n",
    "    imgs_comb = np.vstack( (np.asarray( i.resize(min_shape) ) for i in imgs ) )\n",
    "    imgs_comb = pili.fromarray(imgs_comb)\n",
    "    return imgs_comb\n",
    "    "
   ]
  },
  {
   "cell_type": "markdown",
   "id": "791f580c",
   "metadata": {},
   "source": [
    "The function cartoonizebl_mem blurs and cartoonizes the images to make it look more like a comic."
   ]
  },
  {
   "cell_type": "code",
   "execution_count": 12,
   "id": "77013a6a",
   "metadata": {},
   "outputs": [],
   "source": [
    "import cv2 \n",
    "\n",
    "def cartoonizebl_mem(path_in, blur, line):\n",
    "    imgc = cv2.imread(path_in, cv2.IMREAD_UNCHANGED)\n",
    "    line_size = line\n",
    "    blur_value = blur\n",
    "    gray = cv2.cvtColor(imgc, cv2.COLOR_BGR2GRAY)\n",
    "    gray_blur = cv2.medianBlur(gray, blur_value)\n",
    "    bigedges = cv2.adaptiveThreshold(gray_blur, 255, cv2.ADAPTIVE_THRESH_MEAN_C, cv2.THRESH_BINARY, line_size, blur_value)\n",
    "    bigedges_pil = cv2.cvtColor(bigedges, cv2.COLOR_BGR2RGB) # Converting BGR to RGB\n",
    "    cblimg = cv2.bitwise_and(imgc, imgc, mask=bigedges)\n",
    "    return pili.fromarray(cv2.cvtColor(cblimg, cv2.COLOR_BGR2RGB))"
   ]
  },
  {
   "cell_type": "markdown",
   "id": "2f220a6a",
   "metadata": {},
   "source": [
    "The function add_dialogue adds dialogues to the images i.e by reading the specific cell from the excel file as per language and index."
   ]
  },
  {
   "cell_type": "code",
   "execution_count": 13,
   "id": "2d994f4a",
   "metadata": {},
   "outputs": [],
   "source": [
    "import textwrap\n",
    "\n",
    "def add_dialogue(image, index, language='en'):\n",
    "    caption =DIALOGUES[language][index-1]\n",
    "\n",
    "    TINT_COLOR = (0, 0, 0)\n",
    "    TRANSPARENCY = .25\n",
    "    OPACITY = int(255 * TRANSPARENCY)\n",
    "\n",
    "    img = image.convert('RGBA')\n",
    "\n",
    "    overlay = pili.new('RGBA', img.size, TINT_COLOR+(0,))\n",
    "    draw = pild.Draw(overlay)\n",
    "    font = pilf.truetype(FONTS[language], FONT_TEXT_SIZE)\n",
    "    text = caption\n",
    "    w, h = font.getsize(text)\n",
    "    width, height = img.size\n",
    "    avg_char_width = sum(font.getsize(char)[0] for char in text) / len(text)\n",
    "    max_char_count = int( (width-2*BORDER_WIDTH) / avg_char_width ) - 1\n",
    "\n",
    "    dialogue_lines = []\n",
    "    if language == 'en':\n",
    "        h+=3\n",
    "    else:\n",
    "        max_char_count+=10\n",
    "    for i in text.split(\"\\n\"):\n",
    "        lines = textwrap.wrap(i, width=max_char_count)\n",
    "        dialogue_lines.extend(lines)\n",
    "        \n",
    "    num_lines = len(dialogue_lines)\n",
    "    text = '\\n'.join(dialogue_lines)\n",
    "    x, y = BORDER_WIDTH, img.height - BORDER_HEIGHT - (num_lines)*h\n",
    "    #print(index,' : ',num_lines,\":\",dialogue_lines)\n",
    "    draw.rectangle((x, y, x + img.width - BORDER_WIDTH*2, y + (num_lines)*h), fill=TINT_COLOR+(OPACITY,))\n",
    "    draw.text((x, y), text, fill=(209, 239, 8), font=font)\n",
    "\n",
    "    # Alpha composite these two images together to obtain the desired result.\n",
    "    img = pili.alpha_composite(img, overlay)\n",
    "    img = img.convert(\"RGB\")\n",
    "    return img\n"
   ]
  },
  {
   "cell_type": "markdown",
   "id": "ef3865df",
   "metadata": {},
   "source": [
    "The function make_comic_page_with_language is responsible for creating random number of images in a horizontal strip and at the end combines all horizontal strips vertically to combine one single comic page."
   ]
  },
  {
   "cell_type": "code",
   "execution_count": 14,
   "id": "8486f9e8",
   "metadata": {},
   "outputs": [],
   "source": [
    "import numpy as np\n",
    "\n",
    "def make_comic_page_with_language(no_of_images, language='en', location=IMAGE_FOLDER):\n",
    "    pages=[]\n",
    "\n",
    "    list_im = [x for x in range(1,no_of_images+1)]\n",
    "    while 0 < len(list_im):\n",
    "        lines = 0\n",
    "        strips = []\n",
    "        num_cols = old_num_cols = 0\n",
    "        while lines < 6 and 0 < len(list_im):\n",
    "            lines += 1\n",
    "            while num_cols == old_num_cols:\n",
    "                num_cols = np.random.randint(3, 5)\n",
    "            old_num_cols = num_cols\n",
    "            window = list_im[:num_cols]\n",
    "\n",
    "            images = [ cartoonizebl_mem(location+str(i)+'.PNG', 5, 13) for i in window]\n",
    "\n",
    "            strip = resize_with_borders(images)\n",
    "            \n",
    "            strip_with_dialogues = [ add_dialogue(img, index, language) for index, img in zip(window, strip)]\n",
    "            \n",
    "            strips.append(combine_horizontally(strip_with_dialogues))\n",
    "\n",
    "            list_im = list_im[num_cols:] \n",
    "        page = combine_vertically(strips)\n",
    "        page = add_border(page, PAGE_BORDER_WIDTH, PAGE_BORDER_HEIGHT)\n",
    "        pages.append(page)\n",
    "    return pages\n"
   ]
  },
  {
   "cell_type": "markdown",
   "id": "79545b0e",
   "metadata": {},
   "source": [
    "The function make_comic_pdf creates a pdf from the comic page achieved from the above function. "
   ]
  },
  {
   "cell_type": "code",
   "execution_count": 15,
   "id": "293985f3",
   "metadata": {},
   "outputs": [],
   "source": [
    "from PIL import Image\n",
    "from fpdf import FPDF\n",
    "import os \n",
    "\n",
    "def make_comic_pdf(pages, language='en', cover_path='cover.png'):\n",
    "    \n",
    "    width, height = pages[0].size\n",
    "    if os.path.exists(cover_path):\n",
    "        cover = Image.open(cover_path).resize((width-PAGE_BORDER_WIDTH*2, 1800))\n",
    "        cover = add_border(cover,PAGE_BORDER_WIDTH, PAGE_BORDER_HEIGHT)\n",
    "        pages = [cover]+pages\n",
    "        \n",
    "    pdf = FPDF(unit = \"pt\", format = [width, height])\n",
    "    \n",
    "    imagelist = pages\n",
    "    \n",
    "    for image in imagelist:\n",
    "        pdf.add_page()\n",
    "        iheight = image.height        \n",
    "        pdf.image(image, 0, 0, width, iheight)\n",
    "    \n",
    "    pdf.output(language+\"_comic.pdf\", \"F\")\n",
    "    print(\"Published comic:\"+language+\"_comic.pdf\")\n"
   ]
  },
  {
   "cell_type": "markdown",
   "id": "1be5e374",
   "metadata": {},
   "source": [
    "Following are the function calls to the required functions to create a comic successfully!"
   ]
  },
  {
   "cell_type": "code",
   "execution_count": 16,
   "id": "c76ef2da",
   "metadata": {
    "scrolled": true
   },
   "outputs": [
    {
     "name": "stderr",
     "output_type": "stream",
     "text": [
      "/var/folders/6_/rw1kgql93nb2dswz2brhzmxr0000gn/T/ipykernel_27443/547803987.py:24: FutureWarning: arrays to stack must be passed as a \"sequence\" type such as list or tuple. Support for non-sequence iterables such as generators is deprecated as of NumPy 1.16 and will raise an error in the future.\n",
      "  imgs_comb = np.hstack( (np.asarray(i) for i in imgs ) )\n",
      "/var/folders/6_/rw1kgql93nb2dswz2brhzmxr0000gn/T/ipykernel_27443/547803987.py:31: FutureWarning: arrays to stack must be passed as a \"sequence\" type such as list or tuple. Support for non-sequence iterables such as generators is deprecated as of NumPy 1.16 and will raise an error in the future.\n",
      "  imgs_comb = np.vstack( (np.asarray( i.resize(min_shape) ) for i in imgs ) )\n"
     ]
    },
    {
     "name": "stdout",
     "output_type": "stream",
     "text": [
      "Published comic:hi_comic.pdf\n",
      "Published comic:en_comic.pdf\n"
     ]
    }
   ],
   "source": [
    "hi_comic_pages = make_comic_page_with_language(NO_OF_IMAGE, language='hi')\n",
    "make_comic_pdf(hi_comic_pages, cover_path='hi_cover.jpeg', language='hi')\n",
    "en_comic_pages = make_comic_page_with_language(NO_OF_IMAGE)\n",
    "make_comic_pdf(en_comic_pages, cover_path='en_cover.jpeg')\n"
   ]
  },
  {
   "cell_type": "code",
   "execution_count": null,
   "id": "01797c1a",
   "metadata": {
    "scrolled": true
   },
   "outputs": [],
   "source": []
  }
 ],
 "metadata": {
  "kernelspec": {
   "display_name": "Python 3 (ipykernel)",
   "language": "python",
   "name": "python3"
  },
  "language_info": {
   "codemirror_mode": {
    "name": "ipython",
    "version": 3
   },
   "file_extension": ".py",
   "mimetype": "text/x-python",
   "name": "python",
   "nbconvert_exporter": "python",
   "pygments_lexer": "ipython3",
   "version": "3.9.7"
  }
 },
 "nbformat": 4,
 "nbformat_minor": 5
}
